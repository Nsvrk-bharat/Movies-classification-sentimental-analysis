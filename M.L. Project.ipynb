{
 "cells": [
  {
   "cell_type": "markdown",
   "metadata": {},
   "source": [
    "#   TOPIC  :-\n",
    "# <font color= '#33ccff'>\" Movies</font> classification <font color='#33ccff'>&</font>sentimental <font color='#33ccff'>analysis</font> \n",
    "\n",
    "\n",
    "# <font color= '#FA5858'>Analysis</font> are <font color='#FA5858'>done by</font>\n",
    "\n",
    "# <font color= '#FFD700'>N</font>.<font color= '#FF1493'>S</font>.<font color= '#FFD700'>V</font>.<font color= '#FF1493'>R</font>.<font color= '#FFD700'>K</font> <font color='#FF1493'>B</font><font color= '#FFD700'>HARAT</font> b-tech(<font color='#33ccff'>CSE</font>)  <font color= '#8904B1'>201801270001</font>\n",
    "# <font color= '#FFD700'>B</font>.<font color= '#FF1493'>V</font>.<font color= '#FFD700'>S</font>.<font color= '#FF1493'>G</font> <font color='#FFD700'>PRASANTH</font> b-tech(<font color='#33ccff'>CSE</font>)  <font color= '#8904B1'>201801330004</font>\n",
    "# <font color= '#FFD700'>P</font>.<font color= '#FF1493'>V</font>.<font color= '#FFD700'>S</font> <font color='#FF1493'>S</font><font color= '#FFD700'>URAJ</font> </font> <font color= '#FF1493'>P</font><font color= '#FFD700'>URANJAY</font> b-tech(<font color='#33ccff'>CSE</font>)  <font color= '#8904B1'>201801330005</font>\n",
    "# <font color= '#FFD700'>H</font>.<font color= '#FF1493'>P</font><font color= '#FFD700'>RASHANT</font> <font color='#FF1493'>G</font><font color= '#FFD700'>UPTA</font> </font> b-tech(<font color='#33ccff'>CSE</font>)  <font color= '#8904B1'>201801330022</font>"
   ]
  },
  {
   "cell_type": "markdown",
   "metadata": {},
   "source": [
    "# <font color= '#006400'>Libraries</font> to be <font color= '#4682B4'>installed</font> and <font color= '#F4A460'>imported</font>: "
   ]
  },
  {
   "cell_type": "code",
   "execution_count": 1,
   "metadata": {},
   "outputs": [],
   "source": [
    "import numpy as np\n",
    "import matplotlib.pyplot as plt\n",
    "import pandas as pd"
   ]
  },
  {
   "cell_type": "markdown",
   "metadata": {},
   "source": [
    "# <font color= '#F4A460'>Importing</font> <font color= '#4682B4'>Dataset</font> "
   ]
  },
  {
   "cell_type": "markdown",
   "metadata": {},
   "source": [
    "## <font color= '#F7819F'>This</font> <font color= '#33ccff'>Dataset</font> is <font color= '#F7819F'>taken</font> from <font color= '#33ccff'>online</font>( <font color= '#FF1493'>source</font> = <font color= '#FFD700'>kaggle</font>)"
   ]
  },
  {
   "cell_type": "code",
   "execution_count": 4,
   "metadata": {},
   "outputs": [
    {
     "data": {
      "text/html": [
       "<div>\n",
       "<style scoped>\n",
       "    .dataframe tbody tr th:only-of-type {\n",
       "        vertical-align: middle;\n",
       "    }\n",
       "\n",
       "    .dataframe tbody tr th {\n",
       "        vertical-align: top;\n",
       "    }\n",
       "\n",
       "    .dataframe thead th {\n",
       "        text-align: right;\n",
       "    }\n",
       "</style>\n",
       "<table border=\"1\" class=\"dataframe\">\n",
       "  <thead>\n",
       "    <tr style=\"text-align: right;\">\n",
       "      <th></th>\n",
       "      <th>show_id</th>\n",
       "      <th>type</th>\n",
       "      <th>title</th>\n",
       "      <th>director</th>\n",
       "      <th>cast</th>\n",
       "      <th>country</th>\n",
       "      <th>date_added</th>\n",
       "      <th>release_year</th>\n",
       "      <th>IMDB_Rating</th>\n",
       "      <th>duration</th>\n",
       "      <th>listed_in</th>\n",
       "      <th>description</th>\n",
       "      <th>review</th>\n",
       "      <th>sentiment</th>\n",
       "    </tr>\n",
       "  </thead>\n",
       "  <tbody>\n",
       "    <tr>\n",
       "      <th>0</th>\n",
       "      <td>s1</td>\n",
       "      <td>TV Show</td>\n",
       "      <td>3%</td>\n",
       "      <td>NaN</td>\n",
       "      <td>João Miguel, Bianca Comparato, Michel Gomes, R...</td>\n",
       "      <td>Brazil</td>\n",
       "      <td>August 14, 2020</td>\n",
       "      <td>2020</td>\n",
       "      <td>9.3</td>\n",
       "      <td>4 Seasons</td>\n",
       "      <td>International TV Shows, TV Dramas, TV Sci-Fi &amp;...</td>\n",
       "      <td>In a future where the elite inhabit an island ...</td>\n",
       "      <td>One of the other reviewers has mentioned that ...</td>\n",
       "      <td>positive</td>\n",
       "    </tr>\n",
       "    <tr>\n",
       "      <th>1</th>\n",
       "      <td>s2</td>\n",
       "      <td>Movie</td>\n",
       "      <td>07:19</td>\n",
       "      <td>Jorge Michel Grau</td>\n",
       "      <td>Demián Bichir, Héctor Bonilla, Oscar Serrano, ...</td>\n",
       "      <td>Mexico</td>\n",
       "      <td>December 23, 2016</td>\n",
       "      <td>2016</td>\n",
       "      <td>9.2</td>\n",
       "      <td>93 min</td>\n",
       "      <td>Dramas, International Movies</td>\n",
       "      <td>After a devastating earthquake hits Mexico Cit...</td>\n",
       "      <td>A wonderful little production. &lt;br /&gt;&lt;br /&gt;The...</td>\n",
       "      <td>positive</td>\n",
       "    </tr>\n",
       "    <tr>\n",
       "      <th>2</th>\n",
       "      <td>s3</td>\n",
       "      <td>Movie</td>\n",
       "      <td>23:59</td>\n",
       "      <td>Gilbert Chan</td>\n",
       "      <td>Tedd Chan, Stella Chung, Henley Hii, Lawrence ...</td>\n",
       "      <td>Singapore</td>\n",
       "      <td>December 20, 2018</td>\n",
       "      <td>2011</td>\n",
       "      <td>9.0</td>\n",
       "      <td>78 min</td>\n",
       "      <td>Horror Movies, International Movies</td>\n",
       "      <td>When an army recruit is found dead, his fellow...</td>\n",
       "      <td>I thought this was a wonderful way to spend ti...</td>\n",
       "      <td>positive</td>\n",
       "    </tr>\n",
       "    <tr>\n",
       "      <th>3</th>\n",
       "      <td>s4</td>\n",
       "      <td>Movie</td>\n",
       "      <td>9</td>\n",
       "      <td>Shane Acker</td>\n",
       "      <td>Elijah Wood, John C. Reilly, Jennifer Connelly...</td>\n",
       "      <td>United States</td>\n",
       "      <td>November 16, 2017</td>\n",
       "      <td>2009</td>\n",
       "      <td>5.0</td>\n",
       "      <td>80 min</td>\n",
       "      <td>Action &amp; Adventure, Independent Movies, Sci-Fi...</td>\n",
       "      <td>In a postapocalyptic world, rag-doll robots hi...</td>\n",
       "      <td>Basically there's a family where a little boy ...</td>\n",
       "      <td>negative</td>\n",
       "    </tr>\n",
       "    <tr>\n",
       "      <th>4</th>\n",
       "      <td>s5</td>\n",
       "      <td>Movie</td>\n",
       "      <td>21</td>\n",
       "      <td>Robert Luketic</td>\n",
       "      <td>Jim Sturgess, Kevin Spacey, Kate Bosworth, Aar...</td>\n",
       "      <td>United States</td>\n",
       "      <td>January 1, 2020</td>\n",
       "      <td>2008</td>\n",
       "      <td>9.0</td>\n",
       "      <td>123 min</td>\n",
       "      <td>Dramas</td>\n",
       "      <td>A brilliant group of students become card-coun...</td>\n",
       "      <td>Petter Mattei's \"Love in the Time of Money\" is...</td>\n",
       "      <td>positive</td>\n",
       "    </tr>\n",
       "    <tr>\n",
       "      <th>...</th>\n",
       "      <td>...</td>\n",
       "      <td>...</td>\n",
       "      <td>...</td>\n",
       "      <td>...</td>\n",
       "      <td>...</td>\n",
       "      <td>...</td>\n",
       "      <td>...</td>\n",
       "      <td>...</td>\n",
       "      <td>...</td>\n",
       "      <td>...</td>\n",
       "      <td>...</td>\n",
       "      <td>...</td>\n",
       "      <td>...</td>\n",
       "      <td>...</td>\n",
       "    </tr>\n",
       "    <tr>\n",
       "      <th>5494</th>\n",
       "      <td>s5495</td>\n",
       "      <td>TV Show</td>\n",
       "      <td>Sensitive Skin</td>\n",
       "      <td>NaN</td>\n",
       "      <td>Kim Cattrall, Don McKellar, Nicolas Wright, Jo...</td>\n",
       "      <td>Canada</td>\n",
       "      <td>December 1, 2019</td>\n",
       "      <td>2016</td>\n",
       "      <td>8.7</td>\n",
       "      <td>1 Season</td>\n",
       "      <td>TV Comedies</td>\n",
       "      <td>Davina and Al try to revamp their lives as the...</td>\n",
       "      <td>Sniper gives a true new meaning to war movies....</td>\n",
       "      <td>positive</td>\n",
       "    </tr>\n",
       "    <tr>\n",
       "      <th>5495</th>\n",
       "      <td>s5496</td>\n",
       "      <td>Movie</td>\n",
       "      <td>Seoul Searching</td>\n",
       "      <td>Benson Lee</td>\n",
       "      <td>In-pyo Cha, Justin Chon, Jessika Van, Esteban ...</td>\n",
       "      <td>South Korea, China, United States</td>\n",
       "      <td>December 15, 2017</td>\n",
       "      <td>2015</td>\n",
       "      <td>3.6</td>\n",
       "      <td>109 min</td>\n",
       "      <td>Comedies, Dramas, International Movies</td>\n",
       "      <td>Teens of Korean descent who were born and rais...</td>\n",
       "      <td>This is probably one of the worst movies ever ...</td>\n",
       "      <td>negative</td>\n",
       "    </tr>\n",
       "    <tr>\n",
       "      <th>5496</th>\n",
       "      <td>s5497</td>\n",
       "      <td>Movie</td>\n",
       "      <td>Septembers of Shiraz</td>\n",
       "      <td>Wayne Blair</td>\n",
       "      <td>Adrien Brody, Salma Hayek, Shohreh Aghdashloo,...</td>\n",
       "      <td>United States</td>\n",
       "      <td>August 24, 2020</td>\n",
       "      <td>2016</td>\n",
       "      <td>3.1</td>\n",
       "      <td>110 min</td>\n",
       "      <td>Dramas, Thrillers</td>\n",
       "      <td>In post-revolution Tehran, a wealthy Jewish bu...</td>\n",
       "      <td>I thought Choke had potential, but I thought i...</td>\n",
       "      <td>negative</td>\n",
       "    </tr>\n",
       "    <tr>\n",
       "      <th>5497</th>\n",
       "      <td>s5498</td>\n",
       "      <td>Movie</td>\n",
       "      <td>Septiembre, un llanto en silencio</td>\n",
       "      <td>Kenneth Müller</td>\n",
       "      <td>Saúl Lisazo, Mario Zaragoza, Juan Pablo Olysla...</td>\n",
       "      <td>Guatemala</td>\n",
       "      <td>March 10, 2018</td>\n",
       "      <td>2017</td>\n",
       "      <td>8.9</td>\n",
       "      <td>69 min</td>\n",
       "      <td>Dramas, Independent Movies, International Movies</td>\n",
       "      <td>After a terrorist attack in Guatemala, a baby ...</td>\n",
       "      <td>This film is great. As often heard, it is inde...</td>\n",
       "      <td>positive</td>\n",
       "    </tr>\n",
       "    <tr>\n",
       "      <th>5498</th>\n",
       "      <td>s5499</td>\n",
       "      <td>Movie</td>\n",
       "      <td>Sergio</td>\n",
       "      <td>Greg Barker</td>\n",
       "      <td>Wagner Moura, Ana de Armas, Brían F. O'Byrne, ...</td>\n",
       "      <td>United States</td>\n",
       "      <td>April 17, 2020</td>\n",
       "      <td>2020</td>\n",
       "      <td>3.1</td>\n",
       "      <td>119 min</td>\n",
       "      <td>Dramas, Independent Movies</td>\n",
       "      <td>Passions, ideals and bitter realities collide ...</td>\n",
       "      <td>Unlike the other spaghetti Westerns, this one ...</td>\n",
       "      <td>negative</td>\n",
       "    </tr>\n",
       "  </tbody>\n",
       "</table>\n",
       "<p>5499 rows × 14 columns</p>\n",
       "</div>"
      ],
      "text/plain": [
       "     show_id     type                              title           director  \\\n",
       "0         s1  TV Show                                 3%                NaN   \n",
       "1         s2    Movie                              07:19  Jorge Michel Grau   \n",
       "2         s3    Movie                              23:59       Gilbert Chan   \n",
       "3         s4    Movie                                  9        Shane Acker   \n",
       "4         s5    Movie                                 21     Robert Luketic   \n",
       "...      ...      ...                                ...                ...   \n",
       "5494   s5495  TV Show                     Sensitive Skin                NaN   \n",
       "5495   s5496    Movie                    Seoul Searching         Benson Lee   \n",
       "5496   s5497    Movie               Septembers of Shiraz        Wayne Blair   \n",
       "5497   s5498    Movie  Septiembre, un llanto en silencio     Kenneth Müller   \n",
       "5498   s5499    Movie                             Sergio        Greg Barker   \n",
       "\n",
       "                                                   cast  \\\n",
       "0     João Miguel, Bianca Comparato, Michel Gomes, R...   \n",
       "1     Demián Bichir, Héctor Bonilla, Oscar Serrano, ...   \n",
       "2     Tedd Chan, Stella Chung, Henley Hii, Lawrence ...   \n",
       "3     Elijah Wood, John C. Reilly, Jennifer Connelly...   \n",
       "4     Jim Sturgess, Kevin Spacey, Kate Bosworth, Aar...   \n",
       "...                                                 ...   \n",
       "5494  Kim Cattrall, Don McKellar, Nicolas Wright, Jo...   \n",
       "5495  In-pyo Cha, Justin Chon, Jessika Van, Esteban ...   \n",
       "5496  Adrien Brody, Salma Hayek, Shohreh Aghdashloo,...   \n",
       "5497  Saúl Lisazo, Mario Zaragoza, Juan Pablo Olysla...   \n",
       "5498  Wagner Moura, Ana de Armas, Brían F. O'Byrne, ...   \n",
       "\n",
       "                                country         date_added  release_year  \\\n",
       "0                                Brazil    August 14, 2020          2020   \n",
       "1                                Mexico  December 23, 2016          2016   \n",
       "2                             Singapore  December 20, 2018          2011   \n",
       "3                         United States  November 16, 2017          2009   \n",
       "4                         United States    January 1, 2020          2008   \n",
       "...                                 ...                ...           ...   \n",
       "5494                             Canada   December 1, 2019          2016   \n",
       "5495  South Korea, China, United States  December 15, 2017          2015   \n",
       "5496                      United States    August 24, 2020          2016   \n",
       "5497                          Guatemala     March 10, 2018          2017   \n",
       "5498                      United States     April 17, 2020          2020   \n",
       "\n",
       "      IMDB_Rating   duration  \\\n",
       "0             9.3  4 Seasons   \n",
       "1             9.2     93 min   \n",
       "2             9.0     78 min   \n",
       "3             5.0     80 min   \n",
       "4             9.0    123 min   \n",
       "...           ...        ...   \n",
       "5494          8.7   1 Season   \n",
       "5495          3.6    109 min   \n",
       "5496          3.1    110 min   \n",
       "5497          8.9     69 min   \n",
       "5498          3.1    119 min   \n",
       "\n",
       "                                              listed_in  \\\n",
       "0     International TV Shows, TV Dramas, TV Sci-Fi &...   \n",
       "1                          Dramas, International Movies   \n",
       "2                   Horror Movies, International Movies   \n",
       "3     Action & Adventure, Independent Movies, Sci-Fi...   \n",
       "4                                                Dramas   \n",
       "...                                                 ...   \n",
       "5494                                        TV Comedies   \n",
       "5495             Comedies, Dramas, International Movies   \n",
       "5496                                  Dramas, Thrillers   \n",
       "5497   Dramas, Independent Movies, International Movies   \n",
       "5498                         Dramas, Independent Movies   \n",
       "\n",
       "                                            description  \\\n",
       "0     In a future where the elite inhabit an island ...   \n",
       "1     After a devastating earthquake hits Mexico Cit...   \n",
       "2     When an army recruit is found dead, his fellow...   \n",
       "3     In a postapocalyptic world, rag-doll robots hi...   \n",
       "4     A brilliant group of students become card-coun...   \n",
       "...                                                 ...   \n",
       "5494  Davina and Al try to revamp their lives as the...   \n",
       "5495  Teens of Korean descent who were born and rais...   \n",
       "5496  In post-revolution Tehran, a wealthy Jewish bu...   \n",
       "5497  After a terrorist attack in Guatemala, a baby ...   \n",
       "5498  Passions, ideals and bitter realities collide ...   \n",
       "\n",
       "                                                 review sentiment  \n",
       "0     One of the other reviewers has mentioned that ...  positive  \n",
       "1     A wonderful little production. <br /><br />The...  positive  \n",
       "2     I thought this was a wonderful way to spend ti...  positive  \n",
       "3     Basically there's a family where a little boy ...  negative  \n",
       "4     Petter Mattei's \"Love in the Time of Money\" is...  positive  \n",
       "...                                                 ...       ...  \n",
       "5494  Sniper gives a true new meaning to war movies....  positive  \n",
       "5495  This is probably one of the worst movies ever ...  negative  \n",
       "5496  I thought Choke had potential, but I thought i...  negative  \n",
       "5497  This film is great. As often heard, it is inde...  positive  \n",
       "5498  Unlike the other spaghetti Westerns, this one ...  negative  \n",
       "\n",
       "[5499 rows x 14 columns]"
      ]
     },
     "execution_count": 4,
     "metadata": {},
     "output_type": "execute_result"
    }
   ],
   "source": [
    "data = pd.read_csv('movie_dataset (1).csv')\n",
    "data\n"
   ]
  },
  {
   "cell_type": "code",
   "execution_count": 5,
   "metadata": {},
   "outputs": [
    {
     "data": {
      "text/plain": [
       "(5499, 14)"
      ]
     },
     "execution_count": 5,
     "metadata": {},
     "output_type": "execute_result"
    }
   ],
   "source": [
    "data.shape"
   ]
  },
  {
   "cell_type": "markdown",
   "metadata": {},
   "source": [
    "## To know if any <font color= '#8904B1'>NULL</font> is present "
   ]
  },
  {
   "cell_type": "code",
   "execution_count": 6,
   "metadata": {},
   "outputs": [
    {
     "data": {
      "text/plain": [
       "True"
      ]
     },
     "execution_count": 6,
     "metadata": {},
     "output_type": "execute_result"
    }
   ],
   "source": [
    "data.isnull().values.any()"
   ]
  },
  {
   "cell_type": "markdown",
   "metadata": {},
   "source": [
    "## Data <font color= '#33ccff'>PreProcessing</font>  Steps"
   ]
  },
  {
   "cell_type": "code",
   "execution_count": 7,
   "metadata": {},
   "outputs": [
    {
     "data": {
      "text/html": [
       "<div>\n",
       "<style scoped>\n",
       "    .dataframe tbody tr th:only-of-type {\n",
       "        vertical-align: middle;\n",
       "    }\n",
       "\n",
       "    .dataframe tbody tr th {\n",
       "        vertical-align: top;\n",
       "    }\n",
       "\n",
       "    .dataframe thead th {\n",
       "        text-align: right;\n",
       "    }\n",
       "</style>\n",
       "<table border=\"1\" class=\"dataframe\">\n",
       "  <thead>\n",
       "    <tr style=\"text-align: right;\">\n",
       "      <th></th>\n",
       "      <th>type</th>\n",
       "      <th>title</th>\n",
       "    </tr>\n",
       "  </thead>\n",
       "  <tbody>\n",
       "    <tr>\n",
       "      <th>0</th>\n",
       "      <td>TV Show</td>\n",
       "      <td>3%</td>\n",
       "    </tr>\n",
       "    <tr>\n",
       "      <th>1</th>\n",
       "      <td>Movie</td>\n",
       "      <td>07:19</td>\n",
       "    </tr>\n",
       "    <tr>\n",
       "      <th>2</th>\n",
       "      <td>Movie</td>\n",
       "      <td>23:59</td>\n",
       "    </tr>\n",
       "    <tr>\n",
       "      <th>3</th>\n",
       "      <td>Movie</td>\n",
       "      <td>9</td>\n",
       "    </tr>\n",
       "    <tr>\n",
       "      <th>4</th>\n",
       "      <td>Movie</td>\n",
       "      <td>21</td>\n",
       "    </tr>\n",
       "    <tr>\n",
       "      <th>...</th>\n",
       "      <td>...</td>\n",
       "      <td>...</td>\n",
       "    </tr>\n",
       "    <tr>\n",
       "      <th>5494</th>\n",
       "      <td>TV Show</td>\n",
       "      <td>Sensitive Skin</td>\n",
       "    </tr>\n",
       "    <tr>\n",
       "      <th>5495</th>\n",
       "      <td>Movie</td>\n",
       "      <td>Seoul Searching</td>\n",
       "    </tr>\n",
       "    <tr>\n",
       "      <th>5496</th>\n",
       "      <td>Movie</td>\n",
       "      <td>Septembers of Shiraz</td>\n",
       "    </tr>\n",
       "    <tr>\n",
       "      <th>5497</th>\n",
       "      <td>Movie</td>\n",
       "      <td>Septiembre, un llanto en silencio</td>\n",
       "    </tr>\n",
       "    <tr>\n",
       "      <th>5498</th>\n",
       "      <td>Movie</td>\n",
       "      <td>Sergio</td>\n",
       "    </tr>\n",
       "  </tbody>\n",
       "</table>\n",
       "<p>5499 rows × 2 columns</p>\n",
       "</div>"
      ],
      "text/plain": [
       "         type                              title\n",
       "0     TV Show                                 3%\n",
       "1       Movie                              07:19\n",
       "2       Movie                              23:59\n",
       "3       Movie                                  9\n",
       "4       Movie                                 21\n",
       "...       ...                                ...\n",
       "5494  TV Show                     Sensitive Skin\n",
       "5495    Movie                    Seoul Searching\n",
       "5496    Movie               Septembers of Shiraz\n",
       "5497    Movie  Septiembre, un llanto en silencio\n",
       "5498    Movie                             Sergio\n",
       "\n",
       "[5499 rows x 2 columns]"
      ]
     },
     "execution_count": 7,
     "metadata": {},
     "output_type": "execute_result"
    }
   ],
   "source": [
    "features = data.iloc[:,1:3]\n",
    "features"
   ]
  },
  {
   "cell_type": "code",
   "execution_count": 8,
   "metadata": {},
   "outputs": [
    {
     "data": {
      "text/plain": [
       "0       9.3\n",
       "1       9.2\n",
       "2       9.0\n",
       "3       5.0\n",
       "4       9.0\n",
       "       ... \n",
       "5494    8.7\n",
       "5495    3.6\n",
       "5496    3.1\n",
       "5497    8.9\n",
       "5498    3.1\n",
       "Name: IMDB_Rating, Length: 5499, dtype: float64"
      ]
     },
     "execution_count": 8,
     "metadata": {},
     "output_type": "execute_result"
    }
   ],
   "source": [
    "features1 = data.iloc[:,8]\n",
    "features1"
   ]
  },
  {
   "cell_type": "code",
   "execution_count": 9,
   "metadata": {},
   "outputs": [
    {
     "data": {
      "text/html": [
       "<div>\n",
       "<style scoped>\n",
       "    .dataframe tbody tr th:only-of-type {\n",
       "        vertical-align: middle;\n",
       "    }\n",
       "\n",
       "    .dataframe tbody tr th {\n",
       "        vertical-align: top;\n",
       "    }\n",
       "\n",
       "    .dataframe thead th {\n",
       "        text-align: right;\n",
       "    }\n",
       "</style>\n",
       "<table border=\"1\" class=\"dataframe\">\n",
       "  <thead>\n",
       "    <tr style=\"text-align: right;\">\n",
       "      <th></th>\n",
       "      <th>sentiment</th>\n",
       "    </tr>\n",
       "  </thead>\n",
       "  <tbody>\n",
       "    <tr>\n",
       "      <th>0</th>\n",
       "      <td>positive</td>\n",
       "    </tr>\n",
       "    <tr>\n",
       "      <th>1</th>\n",
       "      <td>positive</td>\n",
       "    </tr>\n",
       "    <tr>\n",
       "      <th>2</th>\n",
       "      <td>positive</td>\n",
       "    </tr>\n",
       "    <tr>\n",
       "      <th>3</th>\n",
       "      <td>negative</td>\n",
       "    </tr>\n",
       "    <tr>\n",
       "      <th>4</th>\n",
       "      <td>positive</td>\n",
       "    </tr>\n",
       "    <tr>\n",
       "      <th>...</th>\n",
       "      <td>...</td>\n",
       "    </tr>\n",
       "    <tr>\n",
       "      <th>5494</th>\n",
       "      <td>positive</td>\n",
       "    </tr>\n",
       "    <tr>\n",
       "      <th>5495</th>\n",
       "      <td>negative</td>\n",
       "    </tr>\n",
       "    <tr>\n",
       "      <th>5496</th>\n",
       "      <td>negative</td>\n",
       "    </tr>\n",
       "    <tr>\n",
       "      <th>5497</th>\n",
       "      <td>positive</td>\n",
       "    </tr>\n",
       "    <tr>\n",
       "      <th>5498</th>\n",
       "      <td>negative</td>\n",
       "    </tr>\n",
       "  </tbody>\n",
       "</table>\n",
       "<p>5499 rows × 1 columns</p>\n",
       "</div>"
      ],
      "text/plain": [
       "     sentiment\n",
       "0     positive\n",
       "1     positive\n",
       "2     positive\n",
       "3     negative\n",
       "4     positive\n",
       "...        ...\n",
       "5494  positive\n",
       "5495  negative\n",
       "5496  negative\n",
       "5497  positive\n",
       "5498  negative\n",
       "\n",
       "[5499 rows x 1 columns]"
      ]
     },
     "execution_count": 9,
     "metadata": {},
     "output_type": "execute_result"
    }
   ],
   "source": [
    "labels = data.iloc[:,data.columns == 'sentiment']\n",
    "labels"
   ]
  },
  {
   "cell_type": "code",
   "execution_count": 10,
   "metadata": {},
   "outputs": [
    {
     "data": {
      "text/html": [
       "<div>\n",
       "<style scoped>\n",
       "    .dataframe tbody tr th:only-of-type {\n",
       "        vertical-align: middle;\n",
       "    }\n",
       "\n",
       "    .dataframe tbody tr th {\n",
       "        vertical-align: top;\n",
       "    }\n",
       "\n",
       "    .dataframe thead th {\n",
       "        text-align: right;\n",
       "    }\n",
       "</style>\n",
       "<table border=\"1\" class=\"dataframe\">\n",
       "  <thead>\n",
       "    <tr style=\"text-align: right;\">\n",
       "      <th></th>\n",
       "      <th>type</th>\n",
       "      <th>title</th>\n",
       "      <th>IMDB_Rating</th>\n",
       "      <th>sentiment</th>\n",
       "    </tr>\n",
       "  </thead>\n",
       "  <tbody>\n",
       "    <tr>\n",
       "      <th>0</th>\n",
       "      <td>TV Show</td>\n",
       "      <td>3%</td>\n",
       "      <td>9.3</td>\n",
       "      <td>positive</td>\n",
       "    </tr>\n",
       "    <tr>\n",
       "      <th>1</th>\n",
       "      <td>Movie</td>\n",
       "      <td>07:19</td>\n",
       "      <td>9.2</td>\n",
       "      <td>positive</td>\n",
       "    </tr>\n",
       "    <tr>\n",
       "      <th>2</th>\n",
       "      <td>Movie</td>\n",
       "      <td>23:59</td>\n",
       "      <td>9.0</td>\n",
       "      <td>positive</td>\n",
       "    </tr>\n",
       "    <tr>\n",
       "      <th>3</th>\n",
       "      <td>Movie</td>\n",
       "      <td>9</td>\n",
       "      <td>5.0</td>\n",
       "      <td>negative</td>\n",
       "    </tr>\n",
       "    <tr>\n",
       "      <th>4</th>\n",
       "      <td>Movie</td>\n",
       "      <td>21</td>\n",
       "      <td>9.0</td>\n",
       "      <td>positive</td>\n",
       "    </tr>\n",
       "    <tr>\n",
       "      <th>...</th>\n",
       "      <td>...</td>\n",
       "      <td>...</td>\n",
       "      <td>...</td>\n",
       "      <td>...</td>\n",
       "    </tr>\n",
       "    <tr>\n",
       "      <th>5494</th>\n",
       "      <td>TV Show</td>\n",
       "      <td>Sensitive Skin</td>\n",
       "      <td>8.7</td>\n",
       "      <td>positive</td>\n",
       "    </tr>\n",
       "    <tr>\n",
       "      <th>5495</th>\n",
       "      <td>Movie</td>\n",
       "      <td>Seoul Searching</td>\n",
       "      <td>3.6</td>\n",
       "      <td>negative</td>\n",
       "    </tr>\n",
       "    <tr>\n",
       "      <th>5496</th>\n",
       "      <td>Movie</td>\n",
       "      <td>Septembers of Shiraz</td>\n",
       "      <td>3.1</td>\n",
       "      <td>negative</td>\n",
       "    </tr>\n",
       "    <tr>\n",
       "      <th>5497</th>\n",
       "      <td>Movie</td>\n",
       "      <td>Septiembre, un llanto en silencio</td>\n",
       "      <td>8.9</td>\n",
       "      <td>positive</td>\n",
       "    </tr>\n",
       "    <tr>\n",
       "      <th>5498</th>\n",
       "      <td>Movie</td>\n",
       "      <td>Sergio</td>\n",
       "      <td>3.1</td>\n",
       "      <td>negative</td>\n",
       "    </tr>\n",
       "  </tbody>\n",
       "</table>\n",
       "<p>5499 rows × 4 columns</p>\n",
       "</div>"
      ],
      "text/plain": [
       "         type                              title  IMDB_Rating sentiment\n",
       "0     TV Show                                 3%          9.3  positive\n",
       "1       Movie                              07:19          9.2  positive\n",
       "2       Movie                              23:59          9.0  positive\n",
       "3       Movie                                  9          5.0  negative\n",
       "4       Movie                                 21          9.0  positive\n",
       "...       ...                                ...          ...       ...\n",
       "5494  TV Show                     Sensitive Skin          8.7  positive\n",
       "5495    Movie                    Seoul Searching          3.6  negative\n",
       "5496    Movie               Septembers of Shiraz          3.1  negative\n",
       "5497    Movie  Septiembre, un llanto en silencio          8.9  positive\n",
       "5498    Movie                             Sergio          3.1  negative\n",
       "\n",
       "[5499 rows x 4 columns]"
      ]
     },
     "execution_count": 10,
     "metadata": {},
     "output_type": "execute_result"
    }
   ],
   "source": [
    "dataset = pd.concat([features,features1, labels], axis = 1)\n",
    "dataset"
   ]
  },
  {
   "cell_type": "code",
   "execution_count": 59,
   "metadata": {},
   "outputs": [
    {
     "data": {
      "text/html": [
       "<div>\n",
       "<style scoped>\n",
       "    .dataframe tbody tr th:only-of-type {\n",
       "        vertical-align: middle;\n",
       "    }\n",
       "\n",
       "    .dataframe tbody tr th {\n",
       "        vertical-align: top;\n",
       "    }\n",
       "\n",
       "    .dataframe thead th {\n",
       "        text-align: right;\n",
       "    }\n",
       "</style>\n",
       "<table border=\"1\" class=\"dataframe\">\n",
       "  <thead>\n",
       "    <tr style=\"text-align: right;\">\n",
       "      <th></th>\n",
       "      <th>type</th>\n",
       "      <th>title</th>\n",
       "      <th>IMDB_Rating</th>\n",
       "    </tr>\n",
       "  </thead>\n",
       "  <tbody>\n",
       "    <tr>\n",
       "      <th>0</th>\n",
       "      <td>TV Show</td>\n",
       "      <td>3%</td>\n",
       "      <td>9.3</td>\n",
       "    </tr>\n",
       "    <tr>\n",
       "      <th>1</th>\n",
       "      <td>Movie</td>\n",
       "      <td>07:19</td>\n",
       "      <td>9.2</td>\n",
       "    </tr>\n",
       "    <tr>\n",
       "      <th>2</th>\n",
       "      <td>Movie</td>\n",
       "      <td>23:59</td>\n",
       "      <td>9.0</td>\n",
       "    </tr>\n",
       "    <tr>\n",
       "      <th>3</th>\n",
       "      <td>Movie</td>\n",
       "      <td>9</td>\n",
       "      <td>5.0</td>\n",
       "    </tr>\n",
       "    <tr>\n",
       "      <th>4</th>\n",
       "      <td>Movie</td>\n",
       "      <td>21</td>\n",
       "      <td>9.0</td>\n",
       "    </tr>\n",
       "    <tr>\n",
       "      <th>...</th>\n",
       "      <td>...</td>\n",
       "      <td>...</td>\n",
       "      <td>...</td>\n",
       "    </tr>\n",
       "    <tr>\n",
       "      <th>5494</th>\n",
       "      <td>TV Show</td>\n",
       "      <td>Sensitive Skin</td>\n",
       "      <td>8.7</td>\n",
       "    </tr>\n",
       "    <tr>\n",
       "      <th>5495</th>\n",
       "      <td>Movie</td>\n",
       "      <td>Seoul Searching</td>\n",
       "      <td>3.6</td>\n",
       "    </tr>\n",
       "    <tr>\n",
       "      <th>5496</th>\n",
       "      <td>Movie</td>\n",
       "      <td>Septembers of Shiraz</td>\n",
       "      <td>3.1</td>\n",
       "    </tr>\n",
       "    <tr>\n",
       "      <th>5497</th>\n",
       "      <td>Movie</td>\n",
       "      <td>Septiembre, un llanto en silencio</td>\n",
       "      <td>8.9</td>\n",
       "    </tr>\n",
       "    <tr>\n",
       "      <th>5498</th>\n",
       "      <td>Movie</td>\n",
       "      <td>Sergio</td>\n",
       "      <td>3.1</td>\n",
       "    </tr>\n",
       "  </tbody>\n",
       "</table>\n",
       "<p>5499 rows × 3 columns</p>\n",
       "</div>"
      ],
      "text/plain": [
       "         type                              title  IMDB_Rating\n",
       "0     TV Show                                 3%          9.3\n",
       "1       Movie                              07:19          9.2\n",
       "2       Movie                              23:59          9.0\n",
       "3       Movie                                  9          5.0\n",
       "4       Movie                                 21          9.0\n",
       "...       ...                                ...          ...\n",
       "5494  TV Show                     Sensitive Skin          8.7\n",
       "5495    Movie                    Seoul Searching          3.6\n",
       "5496    Movie               Septembers of Shiraz          3.1\n",
       "5497    Movie  Septiembre, un llanto en silencio          8.9\n",
       "5498    Movie                             Sergio          3.1\n",
       "\n",
       "[5499 rows x 3 columns]"
      ]
     },
     "execution_count": 59,
     "metadata": {},
     "output_type": "execute_result"
    }
   ],
   "source": [
    "X = dataset.iloc[:,0:3]\n",
    "X"
   ]
  },
  {
   "cell_type": "code",
   "execution_count": 69,
   "metadata": {},
   "outputs": [
    {
     "data": {
      "text/html": [
       "<div>\n",
       "<style scoped>\n",
       "    .dataframe tbody tr th:only-of-type {\n",
       "        vertical-align: middle;\n",
       "    }\n",
       "\n",
       "    .dataframe tbody tr th {\n",
       "        vertical-align: top;\n",
       "    }\n",
       "\n",
       "    .dataframe thead th {\n",
       "        text-align: right;\n",
       "    }\n",
       "</style>\n",
       "<table border=\"1\" class=\"dataframe\">\n",
       "  <thead>\n",
       "    <tr style=\"text-align: right;\">\n",
       "      <th></th>\n",
       "      <th>sentiment</th>\n",
       "    </tr>\n",
       "  </thead>\n",
       "  <tbody>\n",
       "    <tr>\n",
       "      <th>0</th>\n",
       "      <td>1</td>\n",
       "    </tr>\n",
       "    <tr>\n",
       "      <th>1</th>\n",
       "      <td>1</td>\n",
       "    </tr>\n",
       "    <tr>\n",
       "      <th>2</th>\n",
       "      <td>1</td>\n",
       "    </tr>\n",
       "    <tr>\n",
       "      <th>3</th>\n",
       "      <td>0</td>\n",
       "    </tr>\n",
       "    <tr>\n",
       "      <th>4</th>\n",
       "      <td>1</td>\n",
       "    </tr>\n",
       "    <tr>\n",
       "      <th>...</th>\n",
       "      <td>...</td>\n",
       "    </tr>\n",
       "    <tr>\n",
       "      <th>5494</th>\n",
       "      <td>1</td>\n",
       "    </tr>\n",
       "    <tr>\n",
       "      <th>5495</th>\n",
       "      <td>0</td>\n",
       "    </tr>\n",
       "    <tr>\n",
       "      <th>5496</th>\n",
       "      <td>0</td>\n",
       "    </tr>\n",
       "    <tr>\n",
       "      <th>5497</th>\n",
       "      <td>1</td>\n",
       "    </tr>\n",
       "    <tr>\n",
       "      <th>5498</th>\n",
       "      <td>0</td>\n",
       "    </tr>\n",
       "  </tbody>\n",
       "</table>\n",
       "<p>5499 rows × 1 columns</p>\n",
       "</div>"
      ],
      "text/plain": [
       "      sentiment\n",
       "0             1\n",
       "1             1\n",
       "2             1\n",
       "3             0\n",
       "4             1\n",
       "...         ...\n",
       "5494          1\n",
       "5495          0\n",
       "5496          0\n",
       "5497          1\n",
       "5498          0\n",
       "\n",
       "[5499 rows x 1 columns]"
      ]
     },
     "execution_count": 69,
     "metadata": {},
     "output_type": "execute_result"
    }
   ],
   "source": [
    "Y = dataset.iloc[:, dataset.columns == 'sentiment']\n",
    "Y"
   ]
  },
  {
   "cell_type": "markdown",
   "metadata": {},
   "source": [
    "## <font color= '#FF4500'>Encoding</font> <font color= '#4682B4'>Categorical</font> Data"
   ]
  },
  {
   "cell_type": "code",
   "execution_count": 72,
   "metadata": {},
   "outputs": [
    {
     "data": {
      "text/html": [
       "<div>\n",
       "<style scoped>\n",
       "    .dataframe tbody tr th:only-of-type {\n",
       "        vertical-align: middle;\n",
       "    }\n",
       "\n",
       "    .dataframe tbody tr th {\n",
       "        vertical-align: top;\n",
       "    }\n",
       "\n",
       "    .dataframe thead th {\n",
       "        text-align: right;\n",
       "    }\n",
       "</style>\n",
       "<table border=\"1\" class=\"dataframe\">\n",
       "  <thead>\n",
       "    <tr style=\"text-align: right;\">\n",
       "      <th></th>\n",
       "      <th>type</th>\n",
       "      <th>title</th>\n",
       "      <th>IMDB_Rating</th>\n",
       "      <th>sentiment</th>\n",
       "    </tr>\n",
       "  </thead>\n",
       "  <tbody>\n",
       "    <tr>\n",
       "      <th>0</th>\n",
       "      <td>TV Show</td>\n",
       "      <td>3%</td>\n",
       "      <td>9.3</td>\n",
       "      <td>1</td>\n",
       "    </tr>\n",
       "    <tr>\n",
       "      <th>1</th>\n",
       "      <td>Movie</td>\n",
       "      <td>07:19</td>\n",
       "      <td>9.2</td>\n",
       "      <td>1</td>\n",
       "    </tr>\n",
       "    <tr>\n",
       "      <th>2</th>\n",
       "      <td>Movie</td>\n",
       "      <td>23:59</td>\n",
       "      <td>9.0</td>\n",
       "      <td>1</td>\n",
       "    </tr>\n",
       "    <tr>\n",
       "      <th>3</th>\n",
       "      <td>Movie</td>\n",
       "      <td>9</td>\n",
       "      <td>5.0</td>\n",
       "      <td>0</td>\n",
       "    </tr>\n",
       "    <tr>\n",
       "      <th>4</th>\n",
       "      <td>Movie</td>\n",
       "      <td>21</td>\n",
       "      <td>9.0</td>\n",
       "      <td>1</td>\n",
       "    </tr>\n",
       "    <tr>\n",
       "      <th>...</th>\n",
       "      <td>...</td>\n",
       "      <td>...</td>\n",
       "      <td>...</td>\n",
       "      <td>...</td>\n",
       "    </tr>\n",
       "    <tr>\n",
       "      <th>5494</th>\n",
       "      <td>TV Show</td>\n",
       "      <td>Sensitive Skin</td>\n",
       "      <td>8.7</td>\n",
       "      <td>1</td>\n",
       "    </tr>\n",
       "    <tr>\n",
       "      <th>5495</th>\n",
       "      <td>Movie</td>\n",
       "      <td>Seoul Searching</td>\n",
       "      <td>3.6</td>\n",
       "      <td>0</td>\n",
       "    </tr>\n",
       "    <tr>\n",
       "      <th>5496</th>\n",
       "      <td>Movie</td>\n",
       "      <td>Septembers of Shiraz</td>\n",
       "      <td>3.1</td>\n",
       "      <td>0</td>\n",
       "    </tr>\n",
       "    <tr>\n",
       "      <th>5497</th>\n",
       "      <td>Movie</td>\n",
       "      <td>Septiembre, un llanto en silencio</td>\n",
       "      <td>8.9</td>\n",
       "      <td>1</td>\n",
       "    </tr>\n",
       "    <tr>\n",
       "      <th>5498</th>\n",
       "      <td>Movie</td>\n",
       "      <td>Sergio</td>\n",
       "      <td>3.1</td>\n",
       "      <td>0</td>\n",
       "    </tr>\n",
       "  </tbody>\n",
       "</table>\n",
       "<p>5499 rows × 4 columns</p>\n",
       "</div>"
      ],
      "text/plain": [
       "         type                              title  IMDB_Rating  sentiment\n",
       "0     TV Show                                 3%          9.3          1\n",
       "1       Movie                              07:19          9.2          1\n",
       "2       Movie                              23:59          9.0          1\n",
       "3       Movie                                  9          5.0          0\n",
       "4       Movie                                 21          9.0          1\n",
       "...       ...                                ...          ...        ...\n",
       "5494  TV Show                     Sensitive Skin          8.7          1\n",
       "5495    Movie                    Seoul Searching          3.6          0\n",
       "5496    Movie               Septembers of Shiraz          3.1          0\n",
       "5497    Movie  Septiembre, un llanto en silencio          8.9          1\n",
       "5498    Movie                             Sergio          3.1          0\n",
       "\n",
       "[5499 rows x 4 columns]"
      ]
     },
     "execution_count": 72,
     "metadata": {},
     "output_type": "execute_result"
    }
   ],
   "source": [
    "from sklearn.preprocessing import LabelEncoder\n",
    "lb = LabelEncoder()\n",
    "dataset['sentiment'] = lb.fit_transform(dataset['sentiment'])\n",
    "dataset"
   ]
  },
  {
   "cell_type": "code",
   "execution_count": 70,
   "metadata": {},
   "outputs": [
    {
     "name": "stdout",
     "output_type": "stream",
     "text": [
      "sentiment is positive   : (2721, 4)\n",
      "sentiment is negative  : (2721, 4)\n"
     ]
    }
   ],
   "source": [
    "positive = dataset[dataset['sentiment'] == 1]\n",
    "negative = dataset[dataset['sentiment'] == 1]\n",
    "print('sentiment is positive   :' , positive.shape)\n",
    "print('sentiment is negative  :' , negative.shape)"
   ]
  },
  {
   "cell_type": "code",
   "execution_count": 71,
   "metadata": {},
   "outputs": [
    {
     "data": {
      "text/plain": [
       "0    2778\n",
       "1    2721\n",
       "Name: sentiment, dtype: int64"
      ]
     },
     "execution_count": 71,
     "metadata": {},
     "output_type": "execute_result"
    }
   ],
   "source": [
    "dataset.sentiment.value_counts()"
   ]
  },
  {
   "cell_type": "code",
   "execution_count": 16,
   "metadata": {},
   "outputs": [
    {
     "data": {
      "text/html": [
       "<div>\n",
       "<style scoped>\n",
       "    .dataframe tbody tr th:only-of-type {\n",
       "        vertical-align: middle;\n",
       "    }\n",
       "\n",
       "    .dataframe tbody tr th {\n",
       "        vertical-align: top;\n",
       "    }\n",
       "\n",
       "    .dataframe thead th {\n",
       "        text-align: right;\n",
       "    }\n",
       "</style>\n",
       "<table border=\"1\" class=\"dataframe\">\n",
       "  <thead>\n",
       "    <tr style=\"text-align: right;\">\n",
       "      <th></th>\n",
       "      <th>type</th>\n",
       "      <th>title</th>\n",
       "      <th>IMDB_Rating</th>\n",
       "    </tr>\n",
       "  </thead>\n",
       "  <tbody>\n",
       "    <tr>\n",
       "      <th>0</th>\n",
       "      <td>TV Show</td>\n",
       "      <td>3%</td>\n",
       "      <td>9.3</td>\n",
       "    </tr>\n",
       "    <tr>\n",
       "      <th>1</th>\n",
       "      <td>Movie</td>\n",
       "      <td>07:19</td>\n",
       "      <td>9.2</td>\n",
       "    </tr>\n",
       "    <tr>\n",
       "      <th>2</th>\n",
       "      <td>Movie</td>\n",
       "      <td>23:59</td>\n",
       "      <td>9.0</td>\n",
       "    </tr>\n",
       "    <tr>\n",
       "      <th>3</th>\n",
       "      <td>Movie</td>\n",
       "      <td>9</td>\n",
       "      <td>5.0</td>\n",
       "    </tr>\n",
       "    <tr>\n",
       "      <th>4</th>\n",
       "      <td>Movie</td>\n",
       "      <td>21</td>\n",
       "      <td>9.0</td>\n",
       "    </tr>\n",
       "    <tr>\n",
       "      <th>...</th>\n",
       "      <td>...</td>\n",
       "      <td>...</td>\n",
       "      <td>...</td>\n",
       "    </tr>\n",
       "    <tr>\n",
       "      <th>5494</th>\n",
       "      <td>TV Show</td>\n",
       "      <td>Sensitive Skin</td>\n",
       "      <td>8.7</td>\n",
       "    </tr>\n",
       "    <tr>\n",
       "      <th>5495</th>\n",
       "      <td>Movie</td>\n",
       "      <td>Seoul Searching</td>\n",
       "      <td>3.6</td>\n",
       "    </tr>\n",
       "    <tr>\n",
       "      <th>5496</th>\n",
       "      <td>Movie</td>\n",
       "      <td>Septembers of Shiraz</td>\n",
       "      <td>3.1</td>\n",
       "    </tr>\n",
       "    <tr>\n",
       "      <th>5497</th>\n",
       "      <td>Movie</td>\n",
       "      <td>Septiembre, un llanto en silencio</td>\n",
       "      <td>8.9</td>\n",
       "    </tr>\n",
       "    <tr>\n",
       "      <th>5498</th>\n",
       "      <td>Movie</td>\n",
       "      <td>Sergio</td>\n",
       "      <td>3.1</td>\n",
       "    </tr>\n",
       "  </tbody>\n",
       "</table>\n",
       "<p>5499 rows × 3 columns</p>\n",
       "</div>"
      ],
      "text/plain": [
       "         type                              title  IMDB_Rating\n",
       "0     TV Show                                 3%          9.3\n",
       "1       Movie                              07:19          9.2\n",
       "2       Movie                              23:59          9.0\n",
       "3       Movie                                  9          5.0\n",
       "4       Movie                                 21          9.0\n",
       "...       ...                                ...          ...\n",
       "5494  TV Show                     Sensitive Skin          8.7\n",
       "5495    Movie                    Seoul Searching          3.6\n",
       "5496    Movie               Septembers of Shiraz          3.1\n",
       "5497    Movie  Septiembre, un llanto en silencio          8.9\n",
       "5498    Movie                             Sergio          3.1\n",
       "\n",
       "[5499 rows x 3 columns]"
      ]
     },
     "execution_count": 16,
     "metadata": {},
     "output_type": "execute_result"
    }
   ],
   "source": [
    "xData = dataset.iloc[:,0:3]\n",
    "xData"
   ]
  },
  {
   "cell_type": "code",
   "execution_count": 17,
   "metadata": {},
   "outputs": [
    {
     "data": {
      "text/html": [
       "<div>\n",
       "<style scoped>\n",
       "    .dataframe tbody tr th:only-of-type {\n",
       "        vertical-align: middle;\n",
       "    }\n",
       "\n",
       "    .dataframe tbody tr th {\n",
       "        vertical-align: top;\n",
       "    }\n",
       "\n",
       "    .dataframe thead th {\n",
       "        text-align: right;\n",
       "    }\n",
       "</style>\n",
       "<table border=\"1\" class=\"dataframe\">\n",
       "  <thead>\n",
       "    <tr style=\"text-align: right;\">\n",
       "      <th></th>\n",
       "      <th>sentiment</th>\n",
       "    </tr>\n",
       "  </thead>\n",
       "  <tbody>\n",
       "    <tr>\n",
       "      <th>0</th>\n",
       "      <td>1</td>\n",
       "    </tr>\n",
       "    <tr>\n",
       "      <th>1</th>\n",
       "      <td>1</td>\n",
       "    </tr>\n",
       "    <tr>\n",
       "      <th>2</th>\n",
       "      <td>1</td>\n",
       "    </tr>\n",
       "    <tr>\n",
       "      <th>3</th>\n",
       "      <td>0</td>\n",
       "    </tr>\n",
       "    <tr>\n",
       "      <th>4</th>\n",
       "      <td>1</td>\n",
       "    </tr>\n",
       "    <tr>\n",
       "      <th>...</th>\n",
       "      <td>...</td>\n",
       "    </tr>\n",
       "    <tr>\n",
       "      <th>5494</th>\n",
       "      <td>1</td>\n",
       "    </tr>\n",
       "    <tr>\n",
       "      <th>5495</th>\n",
       "      <td>0</td>\n",
       "    </tr>\n",
       "    <tr>\n",
       "      <th>5496</th>\n",
       "      <td>0</td>\n",
       "    </tr>\n",
       "    <tr>\n",
       "      <th>5497</th>\n",
       "      <td>1</td>\n",
       "    </tr>\n",
       "    <tr>\n",
       "      <th>5498</th>\n",
       "      <td>0</td>\n",
       "    </tr>\n",
       "  </tbody>\n",
       "</table>\n",
       "<p>5499 rows × 1 columns</p>\n",
       "</div>"
      ],
      "text/plain": [
       "      sentiment\n",
       "0             1\n",
       "1             1\n",
       "2             1\n",
       "3             0\n",
       "4             1\n",
       "...         ...\n",
       "5494          1\n",
       "5495          0\n",
       "5496          0\n",
       "5497          1\n",
       "5498          0\n",
       "\n",
       "[5499 rows x 1 columns]"
      ]
     },
     "execution_count": 17,
     "metadata": {},
     "output_type": "execute_result"
    }
   ],
   "source": [
    "yData = dataset.iloc[:, dataset.columns == 'sentiment']\n",
    "yData"
   ]
  },
  {
   "cell_type": "markdown",
   "metadata": {},
   "source": [
    "## Spliting the data into <font color= '##33ccff'>Training-Set</font> and <font color= '#FF1493'>Testing-set</font>\n"
   ]
  },
  {
   "cell_type": "code",
   "execution_count": 18,
   "metadata": {},
   "outputs": [],
   "source": [
    "from sklearn.model_selection import train_test_split\n",
    "X_train, X_test,y_train , y_test = train_test_split(xData,yData, test_size = 0.2 ,random_state = 1)"
   ]
  },
  {
   "cell_type": "code",
   "execution_count": 19,
   "metadata": {},
   "outputs": [
    {
     "data": {
      "text/plain": [
       "(4399, 3)"
      ]
     },
     "execution_count": 19,
     "metadata": {},
     "output_type": "execute_result"
    }
   ],
   "source": [
    "X_train.shape"
   ]
  },
  {
   "cell_type": "code",
   "execution_count": 20,
   "metadata": {},
   "outputs": [
    {
     "data": {
      "text/plain": [
       "(1100, 3)"
      ]
     },
     "execution_count": 20,
     "metadata": {},
     "output_type": "execute_result"
    }
   ],
   "source": [
    "X_test.shape"
   ]
  },
  {
   "cell_type": "code",
   "execution_count": 21,
   "metadata": {},
   "outputs": [
    {
     "data": {
      "text/plain": [
       "(4399, 1)"
      ]
     },
     "execution_count": 21,
     "metadata": {},
     "output_type": "execute_result"
    }
   ],
   "source": [
    "y_train.shape"
   ]
  },
  {
   "cell_type": "code",
   "execution_count": 22,
   "metadata": {},
   "outputs": [
    {
     "data": {
      "text/plain": [
       "(1100, 1)"
      ]
     },
     "execution_count": 22,
     "metadata": {},
     "output_type": "execute_result"
    }
   ],
   "source": [
    "y_test.shape"
   ]
  },
  {
   "cell_type": "code",
   "execution_count": 23,
   "metadata": {},
   "outputs": [
    {
     "name": "stdout",
     "output_type": "stream",
     "text": [
      "         type                                   title  IMDB_Rating\n",
      "2776    Movie                              Holly Star          3.0\n",
      "3644    Movie                               Limitless          7.8\n",
      "2275    Movie                              Free Willy          8.1\n",
      "5154    Movie  ReMastered: Who Killed Jam Master Jay?          8.8\n",
      "3119  TV Show            Jamtara - Sabka Number Ayega          8.3\n",
      "...       ...                                     ...          ...\n",
      "905     Movie                             Big Miracle          5.8\n",
      "5192    Movie    Rhys Nicholson Live at the Athenaeum          4.6\n",
      "3980  TV Show                  Masha's Spooky Stories          4.0\n",
      "235   TV Show          A Taiwanese Tale of Two Cities          8.1\n",
      "5157    Movie                                Remember          3.1\n",
      "\n",
      "[4399 rows x 3 columns]\n"
     ]
    }
   ],
   "source": [
    "print(X_train)"
   ]
  },
  {
   "cell_type": "code",
   "execution_count": 24,
   "metadata": {},
   "outputs": [
    {
     "name": "stdout",
     "output_type": "stream",
     "text": [
      "         type                                              title  IMDB_Rating\n",
      "4036    Movie                                            Menorca          3.0\n",
      "4538    Movie                        NOVA: The Impossible Flight          4.7\n",
      "3251    Movie                               Just The Way You Are          2.0\n",
      "951     Movie                                    Black Hawk Down          7.6\n",
      "3427  TV Show                                             KO One          4.0\n",
      "...       ...                                                ...          ...\n",
      "2461  TV Show                                             Goedam          3.0\n",
      "2217  TV Show                      Food Wars!: Shokugeki no Soma          4.0\n",
      "3178    Movie  Jimmy Carr: The Best of Ultimate Gold Greatest...          4.0\n",
      "2702    Movie                                    Her Only Choice          7.8\n",
      "3331    Movie                                KD (A) Karuppudurai          8.0\n",
      "\n",
      "[1100 rows x 3 columns]\n"
     ]
    }
   ],
   "source": [
    "print(X_test)"
   ]
  },
  {
   "cell_type": "code",
   "execution_count": 25,
   "metadata": {},
   "outputs": [
    {
     "name": "stdout",
     "output_type": "stream",
     "text": [
      "      sentiment\n",
      "2776          0\n",
      "3644          1\n",
      "2275          1\n",
      "5154          1\n",
      "3119          1\n",
      "...         ...\n",
      "905           0\n",
      "5192          0\n",
      "3980          0\n",
      "235           1\n",
      "5157          0\n",
      "\n",
      "[4399 rows x 1 columns]\n"
     ]
    }
   ],
   "source": [
    "print(y_train)"
   ]
  },
  {
   "cell_type": "code",
   "execution_count": 26,
   "metadata": {},
   "outputs": [
    {
     "name": "stdout",
     "output_type": "stream",
     "text": [
      "      sentiment\n",
      "4036          0\n",
      "4538          0\n",
      "3251          0\n",
      "951           1\n",
      "3427          0\n",
      "...         ...\n",
      "2461          0\n",
      "2217          0\n",
      "3178          0\n",
      "2702          1\n",
      "3331          1\n",
      "\n",
      "[1100 rows x 1 columns]\n"
     ]
    }
   ],
   "source": [
    "print(y_test)"
   ]
  },
  {
   "cell_type": "markdown",
   "metadata": {},
   "source": [
    "## <font color= '#FF4500'> BALANCING</font> THE <font color= '##33ccff'>DATASET</font>\n",
    "\n",
    "### <font color= '#00FF00'>UP</font>-<font color= '#00FF00'>SAMPLING</font> "
   ]
  },
  {
   "cell_type": "code",
   "execution_count": 31,
   "metadata": {},
   "outputs": [],
   "source": [
    "new_data=dataset[dataset[\"IMDB_Rating\"]==1].sample(0)"
   ]
  },
  {
   "cell_type": "code",
   "execution_count": 32,
   "metadata": {},
   "outputs": [
    {
     "data": {
      "text/html": [
       "<div>\n",
       "<style scoped>\n",
       "    .dataframe tbody tr th:only-of-type {\n",
       "        vertical-align: middle;\n",
       "    }\n",
       "\n",
       "    .dataframe tbody tr th {\n",
       "        vertical-align: top;\n",
       "    }\n",
       "\n",
       "    .dataframe thead th {\n",
       "        text-align: right;\n",
       "    }\n",
       "</style>\n",
       "<table border=\"1\" class=\"dataframe\">\n",
       "  <thead>\n",
       "    <tr style=\"text-align: right;\">\n",
       "      <th></th>\n",
       "      <th>type</th>\n",
       "      <th>title</th>\n",
       "      <th>IMDB_Rating</th>\n",
       "      <th>sentiment</th>\n",
       "    </tr>\n",
       "  </thead>\n",
       "  <tbody>\n",
       "    <tr>\n",
       "      <th>0</th>\n",
       "      <td>TV Show</td>\n",
       "      <td>3%</td>\n",
       "      <td>9.3</td>\n",
       "      <td>1</td>\n",
       "    </tr>\n",
       "    <tr>\n",
       "      <th>1</th>\n",
       "      <td>Movie</td>\n",
       "      <td>07:19</td>\n",
       "      <td>9.2</td>\n",
       "      <td>1</td>\n",
       "    </tr>\n",
       "    <tr>\n",
       "      <th>2</th>\n",
       "      <td>Movie</td>\n",
       "      <td>23:59</td>\n",
       "      <td>9.0</td>\n",
       "      <td>1</td>\n",
       "    </tr>\n",
       "    <tr>\n",
       "      <th>3</th>\n",
       "      <td>Movie</td>\n",
       "      <td>9</td>\n",
       "      <td>5.0</td>\n",
       "      <td>0</td>\n",
       "    </tr>\n",
       "    <tr>\n",
       "      <th>4</th>\n",
       "      <td>Movie</td>\n",
       "      <td>21</td>\n",
       "      <td>9.0</td>\n",
       "      <td>1</td>\n",
       "    </tr>\n",
       "    <tr>\n",
       "      <th>...</th>\n",
       "      <td>...</td>\n",
       "      <td>...</td>\n",
       "      <td>...</td>\n",
       "      <td>...</td>\n",
       "    </tr>\n",
       "    <tr>\n",
       "      <th>5494</th>\n",
       "      <td>TV Show</td>\n",
       "      <td>Sensitive Skin</td>\n",
       "      <td>8.7</td>\n",
       "      <td>1</td>\n",
       "    </tr>\n",
       "    <tr>\n",
       "      <th>5495</th>\n",
       "      <td>Movie</td>\n",
       "      <td>Seoul Searching</td>\n",
       "      <td>3.6</td>\n",
       "      <td>0</td>\n",
       "    </tr>\n",
       "    <tr>\n",
       "      <th>5496</th>\n",
       "      <td>Movie</td>\n",
       "      <td>Septembers of Shiraz</td>\n",
       "      <td>3.1</td>\n",
       "      <td>0</td>\n",
       "    </tr>\n",
       "    <tr>\n",
       "      <th>5497</th>\n",
       "      <td>Movie</td>\n",
       "      <td>Septiembre, un llanto en silencio</td>\n",
       "      <td>8.9</td>\n",
       "      <td>1</td>\n",
       "    </tr>\n",
       "    <tr>\n",
       "      <th>5498</th>\n",
       "      <td>Movie</td>\n",
       "      <td>Sergio</td>\n",
       "      <td>3.1</td>\n",
       "      <td>0</td>\n",
       "    </tr>\n",
       "  </tbody>\n",
       "</table>\n",
       "<p>5499 rows × 4 columns</p>\n",
       "</div>"
      ],
      "text/plain": [
       "         type                              title  IMDB_Rating  sentiment\n",
       "0     TV Show                                 3%          9.3          1\n",
       "1       Movie                              07:19          9.2          1\n",
       "2       Movie                              23:59          9.0          1\n",
       "3       Movie                                  9          5.0          0\n",
       "4       Movie                                 21          9.0          1\n",
       "...       ...                                ...          ...        ...\n",
       "5494  TV Show                     Sensitive Skin          8.7          1\n",
       "5495    Movie                    Seoul Searching          3.6          0\n",
       "5496    Movie               Septembers of Shiraz          3.1          0\n",
       "5497    Movie  Septiembre, un llanto en silencio          8.9          1\n",
       "5498    Movie                             Sergio          3.1          0\n",
       "\n",
       "[5499 rows x 4 columns]"
      ]
     },
     "execution_count": 32,
     "metadata": {},
     "output_type": "execute_result"
    }
   ],
   "source": [
    "pd.concat([dataset,new_data])"
   ]
  },
  {
   "cell_type": "code",
   "execution_count": 34,
   "metadata": {},
   "outputs": [],
   "source": [
    "up_sample_data=pd.concat([dataset,new_data])"
   ]
  },
  {
   "cell_type": "code",
   "execution_count": 35,
   "metadata": {},
   "outputs": [
    {
     "data": {
      "text/plain": [
       "(5499, 4)"
      ]
     },
     "execution_count": 35,
     "metadata": {},
     "output_type": "execute_result"
    }
   ],
   "source": [
    "up_sample_data.shape"
   ]
  },
  {
   "cell_type": "code",
   "execution_count": 36,
   "metadata": {},
   "outputs": [
    {
     "data": {
      "text/plain": [
       "4.0    619\n",
       "3.0    437\n",
       "7.8    421\n",
       "5.0    339\n",
       "8.0    331\n",
       "      ... \n",
       "6.6      2\n",
       "2.1      1\n",
       "9.4      1\n",
       "9.7      1\n",
       "9.5      1\n",
       "Name: IMDB_Rating, Length: 78, dtype: int64"
      ]
     },
     "execution_count": 36,
     "metadata": {},
     "output_type": "execute_result"
    }
   ],
   "source": [
    "up_sample_data['IMDB_Rating'].value_counts()"
   ]
  },
  {
   "cell_type": "code",
   "execution_count": 37,
   "metadata": {},
   "outputs": [
    {
     "data": {
      "text/plain": [
       "4.0    0.112607\n",
       "3.0    0.079498\n",
       "7.8    0.076587\n",
       "5.0    0.061670\n",
       "8.0    0.060215\n",
       "         ...   \n",
       "6.6    0.000364\n",
       "2.1    0.000182\n",
       "9.4    0.000182\n",
       "9.7    0.000182\n",
       "9.5    0.000182\n",
       "Name: IMDB_Rating, Length: 78, dtype: float64"
      ]
     },
     "execution_count": 37,
     "metadata": {},
     "output_type": "execute_result"
    }
   ],
   "source": [
    "up_sample_data['IMDB_Rating'].value_counts(normalize=True)"
   ]
  },
  {
   "cell_type": "markdown",
   "metadata": {},
   "source": [
    "###  <font color= '#228B22'>DOWN</font>-<font color= '#228B22'>SAMPLING</font>"
   ]
  },
  {
   "cell_type": "code",
   "execution_count": 42,
   "metadata": {},
   "outputs": [
    {
     "data": {
      "text/plain": [
       "4.0    619\n",
       "3.0    437\n",
       "7.8    421\n",
       "5.0    339\n",
       "8.0    331\n",
       "      ... \n",
       "6.6      2\n",
       "2.1      1\n",
       "9.4      1\n",
       "9.7      1\n",
       "9.5      1\n",
       "Name: IMDB_Rating, Length: 78, dtype: int64"
      ]
     },
     "execution_count": 42,
     "metadata": {},
     "output_type": "execute_result"
    }
   ],
   "source": [
    "dataset.IMDB_Rating.value_counts()"
   ]
  },
  {
   "cell_type": "code",
   "execution_count": 48,
   "metadata": {},
   "outputs": [
    {
     "data": {
      "text/html": [
       "<div>\n",
       "<style scoped>\n",
       "    .dataframe tbody tr th:only-of-type {\n",
       "        vertical-align: middle;\n",
       "    }\n",
       "\n",
       "    .dataframe tbody tr th {\n",
       "        vertical-align: top;\n",
       "    }\n",
       "\n",
       "    .dataframe thead th {\n",
       "        text-align: right;\n",
       "    }\n",
       "</style>\n",
       "<table border=\"1\" class=\"dataframe\">\n",
       "  <thead>\n",
       "    <tr style=\"text-align: right;\">\n",
       "      <th></th>\n",
       "      <th>type</th>\n",
       "      <th>title</th>\n",
       "      <th>IMDB_Rating</th>\n",
       "      <th>sentiment</th>\n",
       "    </tr>\n",
       "  </thead>\n",
       "  <tbody>\n",
       "  </tbody>\n",
       "</table>\n",
       "</div>"
      ],
      "text/plain": [
       "Empty DataFrame\n",
       "Columns: [type, title, IMDB_Rating, sentiment]\n",
       "Index: []"
      ]
     },
     "execution_count": 48,
     "metadata": {},
     "output_type": "execute_result"
    }
   ],
   "source": [
    "dataset[dataset['IMDB_Rating']==0]"
   ]
  },
  {
   "cell_type": "code",
   "execution_count": 49,
   "metadata": {},
   "outputs": [],
   "source": [
    "new_sample_data = dataset[dataset['IMDB_Rating']==0].sample(0)"
   ]
  },
  {
   "cell_type": "code",
   "execution_count": 50,
   "metadata": {},
   "outputs": [
    {
     "data": {
      "text/html": [
       "<div>\n",
       "<style scoped>\n",
       "    .dataframe tbody tr th:only-of-type {\n",
       "        vertical-align: middle;\n",
       "    }\n",
       "\n",
       "    .dataframe tbody tr th {\n",
       "        vertical-align: top;\n",
       "    }\n",
       "\n",
       "    .dataframe thead th {\n",
       "        text-align: right;\n",
       "    }\n",
       "</style>\n",
       "<table border=\"1\" class=\"dataframe\">\n",
       "  <thead>\n",
       "    <tr style=\"text-align: right;\">\n",
       "      <th></th>\n",
       "      <th>type</th>\n",
       "      <th>title</th>\n",
       "      <th>IMDB_Rating</th>\n",
       "      <th>sentiment</th>\n",
       "    </tr>\n",
       "  </thead>\n",
       "  <tbody>\n",
       "  </tbody>\n",
       "</table>\n",
       "</div>"
      ],
      "text/plain": [
       "Empty DataFrame\n",
       "Columns: [type, title, IMDB_Rating, sentiment]\n",
       "Index: []"
      ]
     },
     "execution_count": 50,
     "metadata": {},
     "output_type": "execute_result"
    }
   ],
   "source": [
    "dataset[dataset['IMDB_Rating']==1]"
   ]
  },
  {
   "cell_type": "code",
   "execution_count": 51,
   "metadata": {},
   "outputs": [
    {
     "data": {
      "text/plain": [
       "(0, 4)"
      ]
     },
     "execution_count": 51,
     "metadata": {},
     "output_type": "execute_result"
    }
   ],
   "source": [
    "new_sample_data.shape"
   ]
  },
  {
   "cell_type": "code",
   "execution_count": 53,
   "metadata": {},
   "outputs": [],
   "source": [
    "down_scale_data=pd.concat([new_sample_data])"
   ]
  },
  {
   "cell_type": "code",
   "execution_count": 54,
   "metadata": {},
   "outputs": [
    {
     "data": {
      "text/html": [
       "<div>\n",
       "<style scoped>\n",
       "    .dataframe tbody tr th:only-of-type {\n",
       "        vertical-align: middle;\n",
       "    }\n",
       "\n",
       "    .dataframe tbody tr th {\n",
       "        vertical-align: top;\n",
       "    }\n",
       "\n",
       "    .dataframe thead th {\n",
       "        text-align: right;\n",
       "    }\n",
       "</style>\n",
       "<table border=\"1\" class=\"dataframe\">\n",
       "  <thead>\n",
       "    <tr style=\"text-align: right;\">\n",
       "      <th></th>\n",
       "      <th>type</th>\n",
       "      <th>title</th>\n",
       "      <th>IMDB_Rating</th>\n",
       "      <th>sentiment</th>\n",
       "    </tr>\n",
       "  </thead>\n",
       "  <tbody>\n",
       "  </tbody>\n",
       "</table>\n",
       "</div>"
      ],
      "text/plain": [
       "Empty DataFrame\n",
       "Columns: [type, title, IMDB_Rating, sentiment]\n",
       "Index: []"
      ]
     },
     "execution_count": 54,
     "metadata": {},
     "output_type": "execute_result"
    }
   ],
   "source": [
    "down_scale_data"
   ]
  },
  {
   "cell_type": "code",
   "execution_count": null,
   "metadata": {},
   "outputs": [],
   "source": []
  }
 ],
 "metadata": {
  "kernelspec": {
   "display_name": "Python 3 (ipykernel)",
   "language": "python",
   "name": "python3"
  },
  "language_info": {
   "codemirror_mode": {
    "name": "ipython",
    "version": 3
   },
   "file_extension": ".py",
   "mimetype": "text/x-python",
   "name": "python",
   "nbconvert_exporter": "python",
   "pygments_lexer": "ipython3",
   "version": "3.9.13"
  }
 },
 "nbformat": 4,
 "nbformat_minor": 4
}
